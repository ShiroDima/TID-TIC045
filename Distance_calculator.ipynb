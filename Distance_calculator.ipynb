{
  "nbformat": 4,
  "nbformat_minor": 0,
  "metadata": {
    "colab": {
      "provenance": [],
      "mount_file_id": "1KCS39F1xXoWlwvjXJsWEAYkHYYeQcx7v",
      "authorship_tag": "ABX9TyPelS5p34OtER5ykWZrZO4J",
      "include_colab_link": true
    },
    "kernelspec": {
      "name": "python3",
      "display_name": "Python 3"
    },
    "language_info": {
      "name": "python"
    }
  },
  "cells": [
    {
      "cell_type": "markdown",
      "metadata": {
        "id": "view-in-github",
        "colab_type": "text"
      },
      "source": [
        "<a href=\"https://colab.research.google.com/github/ShiroDima/TID-TIC045/blob/main/Distance_calculator.ipynb\" target=\"_parent\"><img src=\"https://colab.research.google.com/assets/colab-badge.svg\" alt=\"Open In Colab\"/></a>"
      ]
    },
    {
      "cell_type": "markdown",
      "source": [
        "# Importing Necessary Modules                                                "
      ],
      "metadata": {
        "id": "akTTOsfViZl2"
      }
    },
    {
      "cell_type": "code",
      "execution_count": 39,
      "metadata": {
        "id": "La-9mljRiOm4",
        "colab": {
          "base_uri": "https://localhost:8080/"
        },
        "outputId": "5aed5857-2ed9-4894-de38-df35781c5076"
      },
      "outputs": [
        {
          "output_type": "stream",
          "name": "stdout",
          "text": [
            "Looking in indexes: https://pypi.org/simple, https://us-python.pkg.dev/colab-wheels/public/simple/\n",
            "Requirement already satisfied: geopandas in /usr/local/lib/python3.10/dist-packages (0.13.0)\n",
            "Requirement already satisfied: fiona>=1.8.19 in /usr/local/lib/python3.10/dist-packages (from geopandas) (1.9.3)\n",
            "Requirement already satisfied: packaging in /usr/local/lib/python3.10/dist-packages (from geopandas) (23.1)\n",
            "Requirement already satisfied: pandas>=1.1.0 in /usr/local/lib/python3.10/dist-packages (from geopandas) (1.5.3)\n",
            "Requirement already satisfied: pyproj>=3.0.1 in /usr/local/lib/python3.10/dist-packages (from geopandas) (3.5.0)\n",
            "Requirement already satisfied: shapely>=1.7.1 in /usr/local/lib/python3.10/dist-packages (from geopandas) (2.0.1)\n",
            "Requirement already satisfied: attrs>=19.2.0 in /usr/local/lib/python3.10/dist-packages (from fiona>=1.8.19->geopandas) (23.1.0)\n",
            "Requirement already satisfied: certifi in /usr/local/lib/python3.10/dist-packages (from fiona>=1.8.19->geopandas) (2022.12.7)\n",
            "Requirement already satisfied: click~=8.0 in /usr/local/lib/python3.10/dist-packages (from fiona>=1.8.19->geopandas) (8.1.3)\n",
            "Requirement already satisfied: click-plugins>=1.0 in /usr/local/lib/python3.10/dist-packages (from fiona>=1.8.19->geopandas) (1.1.1)\n",
            "Requirement already satisfied: cligj>=0.5 in /usr/local/lib/python3.10/dist-packages (from fiona>=1.8.19->geopandas) (0.7.2)\n",
            "Requirement already satisfied: munch>=2.3.2 in /usr/local/lib/python3.10/dist-packages (from fiona>=1.8.19->geopandas) (2.5.0)\n",
            "Requirement already satisfied: python-dateutil>=2.8.1 in /usr/local/lib/python3.10/dist-packages (from pandas>=1.1.0->geopandas) (2.8.2)\n",
            "Requirement already satisfied: pytz>=2020.1 in /usr/local/lib/python3.10/dist-packages (from pandas>=1.1.0->geopandas) (2022.7.1)\n",
            "Requirement already satisfied: numpy>=1.21.0 in /usr/local/lib/python3.10/dist-packages (from pandas>=1.1.0->geopandas) (1.22.4)\n",
            "Requirement already satisfied: six in /usr/local/lib/python3.10/dist-packages (from munch>=2.3.2->fiona>=1.8.19->geopandas) (1.16.0)\n"
          ]
        }
      ],
      "source": [
        "! pip install geopandas "
      ]
    },
    {
      "cell_type": "code",
      "source": [
        "import geopandas as gpd\n",
        "from shapely.geometry import Point\n",
        "import folium\n",
        "import pandas as pd                                               "
      ],
      "metadata": {
        "id": "iaIdH8yViqe_"
      },
      "execution_count": 40,
      "outputs": []
    },
    {
      "cell_type": "markdown",
      "source": [
        "# Loading_Dataset"
      ],
      "metadata": {
        "id": "7GX4PwcWix32"
      }
    },
    {
      "cell_type": "code",
      "source": [
        "power_plants=gpd.read_file('/content/drive/MyDrive/TID_Innovation/Data/TID_Dataset/power_plants.csv',\n",
        "                           GEOM_POSSIBLE_NAMES='geom',\n",
        "                           KEEP_GEOM_COLUMNS='NO')\n",
        "\n",
        "power_plants_2=gpd.read_file('/content/drive/MyDrive/TID_Innovation/Data/New folder/NGA_PowerPlants.shp')\n",
        "                    \n",
        "transmission_substations=gpd.read_file('/content/drive/MyDrive/TID_Innovation/Data/TID_Dataset/all_transmission_substations.csv',\n",
        "                                        GEOM_POSSIBLE_NAMES='geom',\n",
        "                                        KEEP_GEOM_COLUMNS='NO')"
      ],
      "metadata": {
        "id": "LESjuEigi3t4",
        "colab": {
          "base_uri": "https://localhost:8080/"
        },
        "outputId": "c7aeca10-c220-49eb-fc85-92e821e2cd11"
      },
      "execution_count": 41,
      "outputs": [
        {
          "output_type": "stream",
          "name": "stderr",
          "text": [
            "ERROR:fiona._env:Pointer 'hGeom' is NULL in 'OGR_G_GetGeometryType'.\n",
            "\n"
          ]
        }
      ]
    },
    {
      "cell_type": "code",
      "source": [
        "# Converting the crs type of the geometry field so the distance is measured in meters                                   \n",
        "power_plants_2=power_plants_2.set_crs('EPSG:4326')\n",
        "power_plants_2=power_plants_2.to_crs('EPSG:3857')"
      ],
      "metadata": {
        "id": "FD37MmZARmts"
      },
      "execution_count": 42,
      "outputs": []
    },
    {
      "cell_type": "code",
      "source": [
        "transmission_substations"
      ],
      "metadata": {
        "colab": {
          "base_uri": "https://localhost:8080/",
          "height": 0
        },
        "id": "8KqzPvpwTinp",
        "outputId": "81206132-3baa-44da-c504-6e9cc71e0980"
      },
      "execution_count": 43,
      "outputs": [
        {
          "output_type": "execute_result",
          "data": {
            "text/plain": [
              "                                      FID     osm_id power_substation  \\\n",
              "0    all_transmission_substations.3114602  564813837       substation   \n",
              "1    all_transmission_substations.3114625  564466620       substation   \n",
              "2    all_transmission_substations.3117563  564468439       substation   \n",
              "3    all_transmission_substations.3128584  564469422       substation   \n",
              "4    all_transmission_substations.3130639  574213499       substation   \n",
              "..                                    ...        ...              ...   \n",
              "163  all_transmission_substations.2798254  563728565       substation   \n",
              "164  all_transmission_substations.2798256  556550171       substation   \n",
              "165  all_transmission_substations.2945365  567187477       substation   \n",
              "166  all_transmission_substations.2967967   39469643       substation   \n",
              "167  all_transmission_substations.2998584  563721937       substation   \n",
              "\n",
              "                                                  tags  \\\n",
              "0                                                   {}   \n",
              "1                                                   {}   \n",
              "2                                                   {}   \n",
              "3                                                   {}   \n",
              "4                                                   {}   \n",
              "..                                                 ...   \n",
              "163                                                 {}   \n",
              "164  {\"fixme\":\"name,operator\",\"substation\":\"transmi...   \n",
              "165                                                 {}   \n",
              "166  {\"fixme\":\"name,operator\",\"substation\":\"transmi...   \n",
              "167                                                 {}   \n",
              "\n",
              "                           geometry  \n",
              "0    POINT (966398.554 1049785.157)  \n",
              "1    POINT (971604.619 1051695.196)  \n",
              "2    POINT (987827.755 1060272.300)  \n",
              "3    POINT (990150.616 1067457.015)  \n",
              "4    POINT (986807.423 1094420.309)  \n",
              "..                              ...  \n",
              "163  POINT (759610.884 1115723.299)  \n",
              "164  POINT (760364.953 1115784.892)  \n",
              "165  POINT (820725.744 1171023.963)  \n",
              "166  POINT (825131.324 1185833.718)  \n",
              "167  POINT (858515.949 1246479.697)  \n",
              "\n",
              "[168 rows x 5 columns]"
            ],
            "text/html": [
              "\n",
              "  <div id=\"df-510c4c3f-e65c-49f0-8bc8-542efe88b060\">\n",
              "    <div class=\"colab-df-container\">\n",
              "      <div>\n",
              "<style scoped>\n",
              "    .dataframe tbody tr th:only-of-type {\n",
              "        vertical-align: middle;\n",
              "    }\n",
              "\n",
              "    .dataframe tbody tr th {\n",
              "        vertical-align: top;\n",
              "    }\n",
              "\n",
              "    .dataframe thead th {\n",
              "        text-align: right;\n",
              "    }\n",
              "</style>\n",
              "<table border=\"1\" class=\"dataframe\">\n",
              "  <thead>\n",
              "    <tr style=\"text-align: right;\">\n",
              "      <th></th>\n",
              "      <th>FID</th>\n",
              "      <th>osm_id</th>\n",
              "      <th>power_substation</th>\n",
              "      <th>tags</th>\n",
              "      <th>geometry</th>\n",
              "    </tr>\n",
              "  </thead>\n",
              "  <tbody>\n",
              "    <tr>\n",
              "      <th>0</th>\n",
              "      <td>all_transmission_substations.3114602</td>\n",
              "      <td>564813837</td>\n",
              "      <td>substation</td>\n",
              "      <td>{}</td>\n",
              "      <td>POINT (966398.554 1049785.157)</td>\n",
              "    </tr>\n",
              "    <tr>\n",
              "      <th>1</th>\n",
              "      <td>all_transmission_substations.3114625</td>\n",
              "      <td>564466620</td>\n",
              "      <td>substation</td>\n",
              "      <td>{}</td>\n",
              "      <td>POINT (971604.619 1051695.196)</td>\n",
              "    </tr>\n",
              "    <tr>\n",
              "      <th>2</th>\n",
              "      <td>all_transmission_substations.3117563</td>\n",
              "      <td>564468439</td>\n",
              "      <td>substation</td>\n",
              "      <td>{}</td>\n",
              "      <td>POINT (987827.755 1060272.300)</td>\n",
              "    </tr>\n",
              "    <tr>\n",
              "      <th>3</th>\n",
              "      <td>all_transmission_substations.3128584</td>\n",
              "      <td>564469422</td>\n",
              "      <td>substation</td>\n",
              "      <td>{}</td>\n",
              "      <td>POINT (990150.616 1067457.015)</td>\n",
              "    </tr>\n",
              "    <tr>\n",
              "      <th>4</th>\n",
              "      <td>all_transmission_substations.3130639</td>\n",
              "      <td>574213499</td>\n",
              "      <td>substation</td>\n",
              "      <td>{}</td>\n",
              "      <td>POINT (986807.423 1094420.309)</td>\n",
              "    </tr>\n",
              "    <tr>\n",
              "      <th>...</th>\n",
              "      <td>...</td>\n",
              "      <td>...</td>\n",
              "      <td>...</td>\n",
              "      <td>...</td>\n",
              "      <td>...</td>\n",
              "    </tr>\n",
              "    <tr>\n",
              "      <th>163</th>\n",
              "      <td>all_transmission_substations.2798254</td>\n",
              "      <td>563728565</td>\n",
              "      <td>substation</td>\n",
              "      <td>{}</td>\n",
              "      <td>POINT (759610.884 1115723.299)</td>\n",
              "    </tr>\n",
              "    <tr>\n",
              "      <th>164</th>\n",
              "      <td>all_transmission_substations.2798256</td>\n",
              "      <td>556550171</td>\n",
              "      <td>substation</td>\n",
              "      <td>{\"fixme\":\"name,operator\",\"substation\":\"transmi...</td>\n",
              "      <td>POINT (760364.953 1115784.892)</td>\n",
              "    </tr>\n",
              "    <tr>\n",
              "      <th>165</th>\n",
              "      <td>all_transmission_substations.2945365</td>\n",
              "      <td>567187477</td>\n",
              "      <td>substation</td>\n",
              "      <td>{}</td>\n",
              "      <td>POINT (820725.744 1171023.963)</td>\n",
              "    </tr>\n",
              "    <tr>\n",
              "      <th>166</th>\n",
              "      <td>all_transmission_substations.2967967</td>\n",
              "      <td>39469643</td>\n",
              "      <td>substation</td>\n",
              "      <td>{\"fixme\":\"name,operator\",\"substation\":\"transmi...</td>\n",
              "      <td>POINT (825131.324 1185833.718)</td>\n",
              "    </tr>\n",
              "    <tr>\n",
              "      <th>167</th>\n",
              "      <td>all_transmission_substations.2998584</td>\n",
              "      <td>563721937</td>\n",
              "      <td>substation</td>\n",
              "      <td>{}</td>\n",
              "      <td>POINT (858515.949 1246479.697)</td>\n",
              "    </tr>\n",
              "  </tbody>\n",
              "</table>\n",
              "<p>168 rows × 5 columns</p>\n",
              "</div>\n",
              "      <button class=\"colab-df-convert\" onclick=\"convertToInteractive('df-510c4c3f-e65c-49f0-8bc8-542efe88b060')\"\n",
              "              title=\"Convert this dataframe to an interactive table.\"\n",
              "              style=\"display:none;\">\n",
              "        \n",
              "  <svg xmlns=\"http://www.w3.org/2000/svg\" height=\"24px\"viewBox=\"0 0 24 24\"\n",
              "       width=\"24px\">\n",
              "    <path d=\"M0 0h24v24H0V0z\" fill=\"none\"/>\n",
              "    <path d=\"M18.56 5.44l.94 2.06.94-2.06 2.06-.94-2.06-.94-.94-2.06-.94 2.06-2.06.94zm-11 1L8.5 8.5l.94-2.06 2.06-.94-2.06-.94L8.5 2.5l-.94 2.06-2.06.94zm10 10l.94 2.06.94-2.06 2.06-.94-2.06-.94-.94-2.06-.94 2.06-2.06.94z\"/><path d=\"M17.41 7.96l-1.37-1.37c-.4-.4-.92-.59-1.43-.59-.52 0-1.04.2-1.43.59L10.3 9.45l-7.72 7.72c-.78.78-.78 2.05 0 2.83L4 21.41c.39.39.9.59 1.41.59.51 0 1.02-.2 1.41-.59l7.78-7.78 2.81-2.81c.8-.78.8-2.07 0-2.86zM5.41 20L4 18.59l7.72-7.72 1.47 1.35L5.41 20z\"/>\n",
              "  </svg>\n",
              "      </button>\n",
              "      \n",
              "  <style>\n",
              "    .colab-df-container {\n",
              "      display:flex;\n",
              "      flex-wrap:wrap;\n",
              "      gap: 12px;\n",
              "    }\n",
              "\n",
              "    .colab-df-convert {\n",
              "      background-color: #E8F0FE;\n",
              "      border: none;\n",
              "      border-radius: 50%;\n",
              "      cursor: pointer;\n",
              "      display: none;\n",
              "      fill: #1967D2;\n",
              "      height: 32px;\n",
              "      padding: 0 0 0 0;\n",
              "      width: 32px;\n",
              "    }\n",
              "\n",
              "    .colab-df-convert:hover {\n",
              "      background-color: #E2EBFA;\n",
              "      box-shadow: 0px 1px 2px rgba(60, 64, 67, 0.3), 0px 1px 3px 1px rgba(60, 64, 67, 0.15);\n",
              "      fill: #174EA6;\n",
              "    }\n",
              "\n",
              "    [theme=dark] .colab-df-convert {\n",
              "      background-color: #3B4455;\n",
              "      fill: #D2E3FC;\n",
              "    }\n",
              "\n",
              "    [theme=dark] .colab-df-convert:hover {\n",
              "      background-color: #434B5C;\n",
              "      box-shadow: 0px 1px 3px 1px rgba(0, 0, 0, 0.15);\n",
              "      filter: drop-shadow(0px 1px 2px rgba(0, 0, 0, 0.3));\n",
              "      fill: #FFFFFF;\n",
              "    }\n",
              "  </style>\n",
              "\n",
              "      <script>\n",
              "        const buttonEl =\n",
              "          document.querySelector('#df-510c4c3f-e65c-49f0-8bc8-542efe88b060 button.colab-df-convert');\n",
              "        buttonEl.style.display =\n",
              "          google.colab.kernel.accessAllowed ? 'block' : 'none';\n",
              "\n",
              "        async function convertToInteractive(key) {\n",
              "          const element = document.querySelector('#df-510c4c3f-e65c-49f0-8bc8-542efe88b060');\n",
              "          const dataTable =\n",
              "            await google.colab.kernel.invokeFunction('convertToInteractive',\n",
              "                                                     [key], {});\n",
              "          if (!dataTable) return;\n",
              "\n",
              "          const docLinkHtml = 'Like what you see? Visit the ' +\n",
              "            '<a target=\"_blank\" href=https://colab.research.google.com/notebooks/data_table.ipynb>data table notebook</a>'\n",
              "            + ' to learn more about interactive tables.';\n",
              "          element.innerHTML = '';\n",
              "          dataTable['output_type'] = 'display_data';\n",
              "          await google.colab.output.renderOutput(dataTable, element);\n",
              "          const docLink = document.createElement('div');\n",
              "          docLink.innerHTML = docLinkHtml;\n",
              "          element.appendChild(docLink);\n",
              "        }\n",
              "      </script>\n",
              "    </div>\n",
              "  </div>\n",
              "  "
            ]
          },
          "metadata": {},
          "execution_count": 43
        }
      ]
    },
    {
      "cell_type": "markdown",
      "source": [
        "# Calculator"
      ],
      "metadata": {
        "id": "LsIKMxfbj9vX"
      }
    },
    {
      "cell_type": "code",
      "source": [
        "def distance_calculator(longitude,latitude,n_closest):\n",
        "  \"\"\"This function calculates the distance between any given location and all power plants and transmission substation and returns the n_closest locations\"\"\"\n",
        "  # Creating a shapely point geometry for the given location                                          \n",
        "  location=Point(longitude,latitude)\n",
        "  # The power plants locations come in two different datasets with no direct field to concat on. \n",
        "  # This first half calculates the distance between the given location and the plants on the first dataset and creates a dataframe to hold the information             \n",
        "  distance=list(power_plants.geometry.distance(location ))                                            \n",
        "  plant_distance=pd.DataFrame({'power_plant':list(power_plants['description']),'distance':distance})\n",
        "  # Repeats the process for the second dataframe then concats the two dataframes                                       \n",
        "  distance_2=list(power_plants_2.geometry.distance(location))\n",
        "  plant_distance_2=pd.DataFrame({'power_plant':list(power_plants_2['PLANT']),'distance':distance_2})\n",
        "  plant_distance=pd.concat([plant_distance,plant_distance_2])\n",
        "  plant_distance.drop_duplicates('power_plant',inplace=True)\n",
        "  # sorts the distances and returns the requested ammount                                           \n",
        "  plant_distance=plant_distance.sort_values('distance',ascending=True)\n",
        "\n",
        "  # Repeating for the transmission substations \n",
        "  distance=list(transmission_substations.geometry.distance(location ))                                            \n",
        "  transmission_substations_distance=pd.DataFrame({'transmission_substation':list(transmission_substations['FID']),'osm_id':list(transmission_substations['osm_id']),'distance':distance})                                             \n",
        "\n",
        "  return(plant_distance.head(n_closest),transmission_substations_distance.head(n_closest))\n",
        "\n",
        "distance_calculator(7.5000,5.20000,5)"
      ],
      "metadata": {
        "id": "MV7cDg2HkCBd",
        "colab": {
          "base_uri": "https://localhost:8080/"
        },
        "outputId": "3a4c8885-ea63-4108-b4ec-f2f2fafa2c9b"
      },
      "execution_count": 44,
      "outputs": [
        {
          "output_type": "execute_result",
          "data": {
            "text/plain": [
              "(                       power_plant       distance\n",
              " 53                           LAGOS  813084.833260\n",
              " 56                   LAGOS AIRPORT  813084.833260\n",
              " 40                           IJORA  813084.833260\n",
              " 1   AES Nigeria BARGE IPP Limited   835108.107576\n",
              " 2     Egbin Thermal Power Station   835504.864848,\n",
              "                 transmission_substation     osm_id      distance\n",
              " 0  all_transmission_substations.3114602  564813837  1.426867e+06\n",
              " 1  all_transmission_substations.3114625  564466620  1.431801e+06\n",
              " 2  all_transmission_substations.3117563  564468439  1.449122e+06\n",
              " 3  all_transmission_substations.3128584  564469422  1.455966e+06\n",
              " 4  all_transmission_substations.3130639  574213499  1.473607e+06)"
            ]
          },
          "metadata": {},
          "execution_count": 44
        }
      ]
    }
  ]
}